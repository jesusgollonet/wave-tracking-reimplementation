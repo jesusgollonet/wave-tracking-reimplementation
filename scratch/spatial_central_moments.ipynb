{
 "cells": [
  {
   "cell_type": "code",
   "execution_count": 4,
   "metadata": {},
   "outputs": [],
   "source": [
    "import numpy as np\n",
    "import matplotlib.pyplot as plt"
   ]
  },
  {
   "cell_type": "markdown",
   "metadata": {},
   "source": [
    "# Introduction\n",
    "\n",
    "## What are Moments \n",
    "\n",
    "Moments are statistical descriptors that capture various properties of a shape. They can be used to calculate the centroid, area, orientation, and other characteristics of an object, and they are commonly used in image processing and computer vision applications.\n",
    "\n",
    "\n",
    "## Types of Moments\n",
    "### 1. Spatial Moments (mij):\n",
    "•\tm00: The zeroth spatial moment, representing the area of the object or the sum of pixel values. It’s analogous to the total “mass” if the image intensity is thought of as a mass distribution.\n",
    "•\tm10, m01: The first-order spatial moments, representing the sum of the pixel values weighted by their x and y coordinates, respectively. These moments are used to calculate the centroid (center of mass) of the object.\n",
    "### 2. Central Moments (μij):\n",
    "•\tThese moments are calculated with respect to the centroid of the object. They are translation invariant, meaning they do not change if the object is shifted in the image.\n",
    "•\tThe central moments are used to describe the shape of the object and to derive other properties like orientation.\n",
    "### 3. Normalized Central Moments (ηij):\n",
    "•\tThese moments are scale-invariant, meaning they do not change if the object is resized. They are often used for object recognition and classification.\n",
    "### 4. Hu Moments:\n",
    "•\tDerived from the central moments, Hu moments are seven invariant moments that are invariant to image scaling, rotation, and reflection. They are commonly used for shape recognition.\n",
    "\n",
    "\n",
    "In this notebook, we will focus on spatial moments, central moments, normalized central moments, and Hu moments. These moments "
   ]
  },
  {
   "cell_type": "markdown",
   "metadata": {},
   "source": [
    "## Spatial Moments"
   ]
  },
  {
   "cell_type": "markdown",
   "metadata": {},
   "source": [
    "### Create simple 10x10 numpy \"image\""
   ]
  },
  {
   "cell_type": "code",
   "execution_count": 5,
   "metadata": {},
   "outputs": [
    {
     "data": {
      "text/plain": [
       "<matplotlib.image.AxesImage at 0x11708f350>"
      ]
     },
     "execution_count": 5,
     "metadata": {},
     "output_type": "execute_result"
    },
    {
     "data": {
      "image/png": "[encoded data removed]",
      "text/plain": [
       "<Figure size 640x480 with 1 Axes>"
      ]
     },
     "metadata": {},
     "output_type": "display_data"
    }
   ],
   "source": [
    "grid = np.zeros((10, 10), dtype=int)\n",
    "grid[3:7, 4:6] = 1\n",
    "plt.imshow(grid, cmap='gray', interpolation='none')\n"
   ]
  },
  {
   "cell_type": "markdown",
   "metadata": {},
   "source": [
    "### Calculate centroid of the image\n",
    "\n",
    "In order to calculate the centroid of the shape, we need to calculate the zeroth and first order moments\n",
    "\n",
    "Let's show the full centroid calculation, then we'll unpack"
   ]
  },
  {
   "cell_type": "code",
   "execution_count": 43,
   "metadata": {},
   "outputs": [
    {
     "data": {
      "image/png": "[encoded data removed]",
      "text/plain": [
       "<Figure size 640x480 with 1 Axes>"
      ]
     },
     "metadata": {},
     "output_type": "display_data"
    }
   ],
   "source": [
    "# zeroth moment is the total number of ones in the grid\n",
    "m00 = np.sum(grid)\n",
    "\n",
    "m10 = np.sum(grid * np.arange(grid.shape[1]))  # Moment with respect to x-coordinates\n",
    "m01 = np.sum(grid * np.arange(grid.shape[0])[:, np.newaxis])  # Moment with respect to y-coordinates\n",
    "\n",
    "# calculate centroid\n",
    "cx = m10 / m00\n",
    "cy = m01 / m00\n",
    "\n",
    "# display the image and the centroid\n",
    "plt.imshow(grid, cmap='gray', interpolation='none')\n",
    "plt.scatter(cx, cy, color='red', marker='x')\n",
    "plt.show()\n"
   ]
  },
  {
   "cell_type": "markdown",
   "metadata": {},
   "source": [
    "### Unpacking m10 \n",
    "The formula for m10 (first order moment with respect to x) is"
   ]
  },
  {
   "cell_type": "code",
   "execution_count": 26,
   "metadata": {},
   "outputs": [
    {
     "data": {
      "text/plain": [
       "np.int64(36)"
      ]
     },
     "execution_count": 26,
     "metadata": {},
     "output_type": "execute_result"
    }
   ],
   "source": [
    "m10 = np.sum(grid * np.arange(grid.shape[1]))"
   ]
  },
  {
   "cell_type": "markdown",
   "metadata": {},
   "source": [
    "`np.arange` gives me a an array of number from 0 up to a given number.\n",
    "\n",
    "In our case we go from 0 to the the number of rows (`grid.shape[1]`)"
   ]
  },
  {
   "cell_type": "code",
   "execution_count": null,
   "metadata": {},
   "outputs": [
    {
     "data": {
      "text/plain": [
       "array([0, 1, 2, 3, 4, 5, 6, 7, 8, 9])"
      ]
     },
     "execution_count": 40,
     "metadata": {},
     "output_type": "execute_result"
    }
   ],
   "source": [
    "np.arange(grid.shape[1])"
   ]
  },
  {
   "cell_type": "markdown",
   "metadata": {},
   "source": [
    "By multiplying that by the full grid, we are weighting each column by its x-coordinate\n",
    "\n",
    "The parts of the image that are 0 will remain 0, and the ones with 1 will get substituted by it's position along x"
   ]
  },
  {
   "cell_type": "code",
   "execution_count": 41,
   "metadata": {},
   "outputs": [
    {
     "data": {
      "text/plain": [
       "array([[0, 0, 0, 0, 0, 0, 0, 0, 0, 0],\n",
       "       [0, 0, 0, 0, 0, 0, 0, 0, 0, 0],\n",
       "       [0, 0, 0, 0, 0, 0, 0, 0, 0, 0],\n",
       "       [0, 0, 0, 0, 4, 5, 0, 0, 0, 0],\n",
       "       [0, 0, 0, 0, 4, 5, 0, 0, 0, 0],\n",
       "       [0, 0, 0, 0, 4, 5, 0, 0, 0, 0],\n",
       "       [0, 0, 0, 0, 4, 5, 0, 0, 0, 0],\n",
       "       [0, 0, 0, 0, 0, 0, 0, 0, 0, 0],\n",
       "       [0, 0, 0, 0, 0, 0, 0, 0, 0, 0],\n",
       "       [0, 0, 0, 0, 0, 0, 0, 0, 0, 0]])"
      ]
     },
     "execution_count": 41,
     "metadata": {},
     "output_type": "execute_result"
    }
   ],
   "source": [
    "grid * np.arange(grid.shape[1])"
   ]
  },
  {
   "cell_type": "markdown",
   "metadata": {},
   "source": [
    "By summing the values of the above calculation, we get the mass with respect to the x-coordinates. \n",
    "\n",
    "This number will be bigger if the mass is more to the right (x is bigger) and smaller if the mass is more to the left (x is smaller).\n"
   ]
  },
  {
   "cell_type": "code",
   "execution_count": 47,
   "metadata": {},
   "outputs": [
    {
     "data": {
      "text/plain": [
       "np.int64(36)"
      ]
     },
     "execution_count": 47,
     "metadata": {},
     "output_type": "execute_result"
    }
   ],
   "source": [
    "np.sum(grid * np.arange(grid.shape[1]))"
   ]
  },
  {
   "cell_type": "markdown",
   "metadata": {},
   "source": [
    "### Same shape, rotated by 45 degrees"
   ]
  },
  {
   "cell_type": "code",
   "execution_count": 48,
   "metadata": {},
   "outputs": [
    {
     "data": {
      "text/plain": [
       "<matplotlib.image.AxesImage at 0x12024a7e0>"
      ]
     },
     "execution_count": 48,
     "metadata": {},
     "output_type": "execute_result"
    },
    {
     "data": {
      "image/png": "[encoded data removed]",
      "text/plain": [
       "<Figure size 640x480 with 1 Axes>"
      ]
     },
     "metadata": {},
     "output_type": "display_data"
    }
   ],
   "source": [
    "rotated_grid = np.zeros((10, 10), dtype=int)\n",
    "rotated_grid[4:6, 3:7] = 1\n",
    "plt.imshow(rotated_grid, cmap='gray', interpolation='none')"
   ]
  },
  {
   "cell_type": "code",
   "execution_count": 58,
   "metadata": {},
   "outputs": [
    {
     "data": {
      "text/plain": [
       "(np.float64(4.5), np.float64(4.5))"
      ]
     },
     "execution_count": 58,
     "metadata": {},
     "output_type": "execute_result"
    }
   ],
   "source": [
    "m00 = np.sum(rotated_grid)\n",
    "m10 = np.sum(rotated_grid * np.arange(rotated_grid.shape[1]))\n",
    "m01 = np.sum(rotated_grid * np.arange(rotated_grid.shape[0])[:, np.newaxis])\n",
    "rotated_cx = m10 / m00\n",
    "rotated_cy = m01 / m00\n",
    "rotated_cx, rotated_cy\n",
    "# Centroid is the same\n"
   ]
  },
  {
   "cell_type": "code",
   "execution_count": 54,
   "metadata": {},
   "outputs": [
    {
     "data": {
      "image/png": "[encoded data removed]",
      "text/plain": [
       "<Figure size 640x480 with 1 Axes>"
      ]
     },
     "metadata": {},
     "output_type": "display_data"
    }
   ],
   "source": [
    "plt.imshow(rotated_grid, cmap='gray', interpolation='none')\n",
    "plt.scatter(x=[cx], y=[cy], color='red', marker='x')\n",
    "plt.show()"
   ]
  },
  {
   "cell_type": "markdown",
   "metadata": {},
   "source": [
    "## TODO \n",
    "- add more examples\n",
    "- A note on [newaxis]"
   ]
  },
  {
   "cell_type": "markdown",
   "metadata": {},
   "source": [
    "## Central Moments"
   ]
  },
  {
   "cell_type": "code",
   "execution_count": 55,
   "metadata": {},
   "outputs": [
    {
     "data": {
      "text/plain": [
       "<matplotlib.image.AxesImage at 0x117396180>"
      ]
     },
     "execution_count": 55,
     "metadata": {},
     "output_type": "execute_result"
    },
    {
     "data": {
      "image/png": "[encoded data removed]",
      "text/plain": [
       "<Figure size 640x480 with 1 Axes>"
      ]
     },
     "metadata": {},
     "output_type": "display_data"
    }
   ],
   "source": [
    "# We're back to the original image\n",
    "grid = np.zeros((10, 10), dtype=int)\n",
    "grid[3:7, 4:6] = 1\n",
    "\n",
    "plt.imshow(grid, cmap='gray', interpolation='none')\n"
   ]
  },
  {
   "cell_type": "code",
   "execution_count": 72,
   "metadata": {},
   "outputs": [
    {
     "data": {
      "text/plain": [
       "(np.float64(2.0),\n",
       " np.float64(10.0),\n",
       " np.float64(0.0),\n",
       " array([[-4.5, -3.5, -2.5, -1.5, -0.5,  0.5,  1.5,  2.5,  3.5,  4.5],\n",
       "        [-4.5, -3.5, -2.5, -1.5, -0.5,  0.5,  1.5,  2.5,  3.5,  4.5],\n",
       "        [-4.5, -3.5, -2.5, -1.5, -0.5,  0.5,  1.5,  2.5,  3.5,  4.5],\n",
       "        [-4.5, -3.5, -2.5, -1.5, -0.5,  0.5,  1.5,  2.5,  3.5,  4.5],\n",
       "        [-4.5, -3.5, -2.5, -1.5, -0.5,  0.5,  1.5,  2.5,  3.5,  4.5],\n",
       "        [-4.5, -3.5, -2.5, -1.5, -0.5,  0.5,  1.5,  2.5,  3.5,  4.5],\n",
       "        [-4.5, -3.5, -2.5, -1.5, -0.5,  0.5,  1.5,  2.5,  3.5,  4.5],\n",
       "        [-4.5, -3.5, -2.5, -1.5, -0.5,  0.5,  1.5,  2.5,  3.5,  4.5],\n",
       "        [-4.5, -3.5, -2.5, -1.5, -0.5,  0.5,  1.5,  2.5,  3.5,  4.5],\n",
       "        [-4.5, -3.5, -2.5, -1.5, -0.5,  0.5,  1.5,  2.5,  3.5,  4.5]]),\n",
       " array([[-4.5, -4.5, -4.5, -4.5, -4.5, -4.5, -4.5, -4.5, -4.5, -4.5],\n",
       "        [-3.5, -3.5, -3.5, -3.5, -3.5, -3.5, -3.5, -3.5, -3.5, -3.5],\n",
       "        [-2.5, -2.5, -2.5, -2.5, -2.5, -2.5, -2.5, -2.5, -2.5, -2.5],\n",
       "        [-1.5, -1.5, -1.5, -1.5, -1.5, -1.5, -1.5, -1.5, -1.5, -1.5],\n",
       "        [-0.5, -0.5, -0.5, -0.5, -0.5, -0.5, -0.5, -0.5, -0.5, -0.5],\n",
       "        [ 0.5,  0.5,  0.5,  0.5,  0.5,  0.5,  0.5,  0.5,  0.5,  0.5],\n",
       "        [ 1.5,  1.5,  1.5,  1.5,  1.5,  1.5,  1.5,  1.5,  1.5,  1.5],\n",
       "        [ 2.5,  2.5,  2.5,  2.5,  2.5,  2.5,  2.5,  2.5,  2.5,  2.5],\n",
       "        [ 3.5,  3.5,  3.5,  3.5,  3.5,  3.5,  3.5,  3.5,  3.5,  3.5],\n",
       "        [ 4.5,  4.5,  4.5,  4.5,  4.5,  4.5,  4.5,  4.5,  4.5,  4.5]]))"
      ]
     },
     "execution_count": 72,
     "metadata": {},
     "output_type": "execute_result"
    }
   ],
   "source": [
    "# Calculate central moments (with respect to the centroid)\n",
    "x_indices = np.arange(grid.shape[1]) - cx\n",
    "y_indices = np.arange(grid.shape[0]) - cy\n",
    "X, Y = np.meshgrid(x_indices, y_indices)\n",
    "mu20 = np.sum(grid * X**2)\n",
    "mu02 = np.sum(grid * Y**2)\n",
    "mu11 = np.sum(grid * X * Y)\n",
    "mu20, mu02, mu11\n"
   ]
  },
  {
   "cell_type": "code",
   "execution_count": 93,
   "metadata": {},
   "outputs": [
    {
     "data": {
      "text/plain": [
       "<matplotlib.patches.Ellipse at 0x1172bdfa0>"
      ]
     },
     "execution_count": 93,
     "metadata": {},
     "output_type": "execute_result"
    },
    {
     "data": {
      "image/png": "[encoded data removed]",
      "text/plain": [
       "<Figure size 640x480 with 1 Axes>"
      ]
     },
     "metadata": {},
     "output_type": "display_data"
    }
   ],
   "source": [
    "### How to visualize central moments\n",
    "from matplotlib.patches import Ellipse\n",
    "\n",
    "# ChatGPT suggests fitting an ellipse around the shape using the central moments, so i can illustrate orientation, aspect ratio and size of the shape\n",
    "\n",
    "# Calculate the central moments\n",
    "\n",
    "y,x = np.nonzero(grid)\n",
    "# Calculate the covariance matrix\n",
    "cov = np.cov(x, y)\n",
    "# Calculate the eigenvalues and eigenvectors of the covariance matrix\n",
    "eigenvalues, eigenvectors = np.linalg.eig(cov)\n",
    "# Sort the eigenvectors by decreasing eigenvalues. I still don't understand slicing\n",
    "order = eigenvalues.argsort()[::-1]\n",
    "\n",
    "eigenvalues = eigenvalues[order]\n",
    "eigenvectors = eigenvectors[:, order]\n",
    "\n",
    "# Calculate the angle of the eigenvector with the largest eigenvalue\n",
    "\n",
    "\n",
    "angle = np.degrees(np.arctan2(*eigenvectors[:, 0][::-1]))\n",
    "width, height = 2 * np.sqrt(eigenvalues)\n",
    "\n",
    "plt.imshow(grid, cmap='gray', interpolation='none')\n",
    "ellipse = Ellipse(xy = (cx, cy), width = width, height = height, angle = angle, edgecolor = 'red', fc = 'None')\n",
    "plt.gca().add_patch(ellipse)"
   ]
  },
  {
   "cell_type": "code",
   "execution_count": null,
   "metadata": {},
   "outputs": [],
   "source": []
  }
 ],
 "metadata": {
  "kernelspec": {
   "display_name": ".venv",
   "language": "python",
   "name": "python3"
  },
  "language_info": {
   "codemirror_mode": {
    "name": "ipython",
    "version": 3
   },
   "file_extension": ".py",
   "mimetype": "text/x-python",
   "name": "python",
   "nbconvert_exporter": "python",
   "pygments_lexer": "ipython3",
   "version": "3.12.3"
  }
 },
 "nbformat": 4,
 "nbformat_minor": 2
}
