{
 "cells": [
  {
   "cell_type": "code",
   "execution_count": 4,
   "metadata": {},
   "outputs": [],
   "source": [
    "import numpy as np\n",
    "import matplotlib.pyplot as plt"
   ]
  },
  {
   "cell_type": "code",
   "execution_count": 5,
   "metadata": {},
   "outputs": [
    {
     "data": {
      "text/plain": [
       "<matplotlib.image.AxesImage at 0x11708f350>"
      ]
     },
     "execution_count": 5,
     "metadata": {},
     "output_type": "execute_result"
    },
    {
     "data": {
      "image/png": "[encoded data removed]",
      "text/plain": [
       "<Figure size 640x480 with 1 Axes>"
      ]
     },
     "metadata": {},
     "output_type": "display_data"
    }
   ],
   "source": [
    "grid = np.zeros((10, 10), dtype=int)\n",
    "grid[3:7, 4:6] = 1\n",
    "plt.imshow(grid, cmap='gray', interpolation='none')\n"
   ]
  },
  {
   "cell_type": "code",
   "execution_count": 13,
   "metadata": {},
   "outputs": [
    {
     "data": {
      "text/plain": [
       "(array([0. , 1. , 2. , 3. , 3.5, 4.5, 6. , 7. , 8. , 9. ]),\n",
       " array([0.  , 1.  , 2.  , 2.75, 3.75, 4.75, 5.75, 7.  , 8.  , 9.  ]))"
      ]
     },
     "execution_count": 13,
     "metadata": {},
     "output_type": "execute_result"
    }
   ],
   "source": [
    "m00 = np.sum(grid)\n",
    "m10 = np.sum(grid * np.arange(grid.shape[1]))  # Moment with respect to x-coordinates\n",
    "m01 = np.sum(grid * np.arange(grid.shape[0])[:, np.newaxis])  # Moment with respect to y-coordinates\n",
    "\n",
    "m00, m10, m01\n",
    "\n",
    "cx = m10 / m00\n",
    "cy = m01 / m00\n",
    "\n",
    "\n",
    "x_indices = np.arange(grid.shape[1]) - cx\n",
    "y_indices = np.arange(grid.shape[0]) - cy\n",
    "\n",
    "x_indices, y_indices"
   ]
  }
 ],
 "metadata": {
  "kernelspec": {
   "display_name": ".venv",
   "language": "python",
   "name": "python3"
  },
  "language_info": {
   "codemirror_mode": {
    "name": "ipython",
    "version": 3
   },
   "file_extension": ".py",
   "mimetype": "text/x-python",
   "name": "python",
   "nbconvert_exporter": "python",
   "pygments_lexer": "ipython3",
   "version": "3.12.3"
  }
 },
 "nbformat": 4,
 "nbformat_minor": 2
}
