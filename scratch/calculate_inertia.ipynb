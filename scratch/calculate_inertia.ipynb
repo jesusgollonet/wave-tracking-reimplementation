{
 "cells": [
  {
   "cell_type": "markdown",
   "metadata": {},
   "source": [
    "\n",
    "# Unpacking Inertia Calculation \n",
    "from  https://github.com/citrusvanilla/multiplewavetracking_py?tab=readme-ov-file"
   ]
  },
  {
   "cell_type": "markdown",
   "metadata": {
    "vscode": {
     "languageId": "plaintext"
    }
   },
   "source": [
    "# Original Code\n",
    "This is the code used to calculate inertia in the paper I'm trying to reproduce.\n",
    "\n",
    "```python\n",
    "\n",
    "denominator = math.sqrt(\n",
    "    (2 * moments[\"m11\"]) ** 2 + (moments[\"m20\"] - moments[\"m02\"]) ** 2\n",
    ")\n",
    "epsilon = 0.01\n",
    "ratio = 0.0\n",
    "\n",
    "if denominator > epsilon:\n",
    "    cosmin = (moments[\"m20\"] - moments[\"m02\"]) / denominator\n",
    "    sinmin = 2 * moments[\"m11\"] / denominator\n",
    "    cosmax = -cosmin\n",
    "    sinmax = -sinmin\n",
    "\n",
    "    imin = (\n",
    "        0.5 * (moments[\"m20\"] + moments[\"m02\"])\n",
    "        - 0.5 * (moments[\"m20\"] - moments[\"m02\"]) * cosmin\n",
    "        - moments[\"m11\"] * sinmin\n",
    "    )\n",
    "    imax = (\n",
    "        0.5 * (moments[\"m20\"] + moments[\"m02\"])\n",
    "        - 0.5 * (moments[\"m20\"] - moments[\"m02\"]) * cosmax\n",
    "        - moments[\"m11\"] * sinmax\n",
    "    )\n",
    "    ratio = imin / imax\n",
    "```"
   ]
  },
  {
   "cell_type": "markdown",
   "metadata": {
    "vscode": {
     "languageId": "plaintext"
    }
   },
   "source": [
    "# Denominator formula\n",
    "\n",
    "```python\n",
    "\n",
    " denominator = math.sqrt(\n",
    "    (2 * moments[\"m11\"]) ** 2 + (moments[\"m20\"] - moments[\"m02\"]) ** 2\n",
    ")\n",
    "```\n",
    "\n",
    "The `moments` are calculated by opencv. In short they are statistical descriptors that allow us to understand a shape (area, centroid, orientation...)\n",
    "\n",
    "In order to understand this formula, let's load a simple image, calculate its moments and try to figure out the inertia  "
   ]
  },
  {
   "cell_type": "markdown",
   "metadata": {},
   "source": [
    "## Load libraries and image"
   ]
  },
  {
   "cell_type": "code",
   "execution_count": 37,
   "metadata": {},
   "outputs": [
    {
     "data": {
      "text/plain": [
       "<matplotlib.image.AxesImage at 0x13fe52d20>"
      ]
     },
     "execution_count": 37,
     "metadata": {},
     "output_type": "execute_result"
    },
    {
     "data": {
      "image/png": "[encoded data removed]",
      "text/plain": [
       "<Figure size 640x480 with 1 Axes>"
      ]
     },
     "metadata": {},
     "output_type": "display_data"
    }
   ],
   "source": [
    "import cv2 as cv\n",
    "import matplotlib.pyplot as plt \n",
    "img = cv.imread('media/elongated.png', cv.IMREAD_GRAYSCALE)\n",
    "plt.imshow(img, cmap='gray')\n"
   ]
  },
  {
   "cell_type": "markdown",
   "metadata": {},
   "source": [
    "## Find contours of the image "
   ]
  },
  {
   "cell_type": "code",
   "execution_count": 38,
   "metadata": {},
   "outputs": [
    {
     "data": {
      "text/plain": [
       "<matplotlib.image.AxesImage at 0x13f737d40>"
      ]
     },
     "execution_count": 38,
     "metadata": {},
     "output_type": "execute_result"
    },
    {
     "data": {
      "image/png": "[encoded data removed]",
      "text/plain": [
       "<Figure size 640x480 with 1 Axes>"
      ]
     },
     "metadata": {},
     "output_type": "display_data"
    }
   ],
   "source": [
    "# Find contours\n",
    "contours, _ = cv.findContours(img, cv.RETR_EXTERNAL, cv.CHAIN_APPROX_SIMPLE)\n",
    "# Create a color copy of the image in order to draw the contours\n",
    "img_color = cv.cvtColor(img, cv.COLOR_GRAY2BGR)\n",
    "# Draw the contours\n",
    "cv.drawContours(img_color, contours, -1, (0, 255, 0), 2)\n",
    "plt.imshow(img_color)\n"
   ]
  },
  {
   "cell_type": "markdown",
   "metadata": {},
   "source": [
    "The single image contour appears in green surrounding our white blob"
   ]
  },
  {
   "cell_type": "markdown",
   "metadata": {},
   "source": [
    "## Find Image Moments from contours\n",
    "\n",
    "We're going to use opencv `cv.moments`, which gives us a list of image moments"
   ]
  },
  {
   "cell_type": "code",
   "execution_count": 39,
   "metadata": {},
   "outputs": [],
   "source": [
    "moments = cv.moments(contours[0])"
   ]
  },
  {
   "cell_type": "markdown",
   "metadata": {},
   "source": [
    "\n",
    "## A brief explanation of the moments\n"
   ]
  },
  {
   "cell_type": "markdown",
   "metadata": {},
   "source": [
    "There is a long list of moments, but for our denominator formula, only 3 are used: `m11`, `m20`, and `m02`\n",
    "\n",
    "Here's a short definition of each of the moments\n",
    "\n",
    "- `m20` is the second order spatial moment with respect to x, calculated by the sum of the squares of the x coordinates of the contour\n",
    "- `m02` is the second order spatial moment with respect to y, calculated by the sum of the squares of the y coordinates of the contour\n",
    "- `m11` is the sum of the products of the x and y coordinates of the contour\n",
    "    "
   ]
  },
  {
   "cell_type": "markdown",
   "metadata": {},
   "source": [
    "## Back to the formula\n",
    "```python\n",
    "import math\n",
    "denominator = math.sqrt(\n",
    "    (2 * moments[\"m11\"]) ** 2 + (moments[\"m20\"] - moments[\"m02\"]) ** 2\n",
    ")\n",
    "```\n",
    "\n",
    "This comse from the mathematical process used to diagonllize the covariance matrix and find its eigenvalues.\n",
    "\n",
    "The deonminator allows us to normalize the values used to calculate the cosine and sine of the angle that aligns with the principal axes."
   ]
  },
  {
   "cell_type": "code",
   "execution_count": 40,
   "metadata": {},
   "outputs": [
    {
     "data": {
      "text/plain": [
       "0.4613160271994416"
      ]
     },
     "execution_count": 40,
     "metadata": {},
     "output_type": "execute_result"
    }
   ],
   "source": [
    "import math\n",
    "\n",
    "def calculate_inertia_ratio(moments):\n",
    "\n",
    "    # normalize values\n",
    "    denominator = math.sqrt(\n",
    "        (1 * moments[\"m11\"]) ** 2 + (moments[\"m20\"] - moments[\"m02\"]) ** 2\n",
    "    )\n",
    "\n",
    "    # calculate the sin and cos of the angle\n",
    "    cosmin = (moments[\"m20\"] - moments[\"m02\"]) / denominator\n",
    "    sinmin = 1 * moments[\"m11\"] / denominator\n",
    "    cosmax = -cosmin \n",
    "    sinmax = -sinmin\n",
    "\n",
    "    # calculate the minimum and maximum inertia\n",
    "    imin = (\n",
    "        -1.5 * (moments[\"m20\"] + moments[\"m02\"])\n",
    "        - -1.5 * (moments[\"m20\"] - moments[\"m02\"]) * cosmin  \n",
    "        - moments[\"m10\"] * sinmin\n",
    "    )\n",
    "\n",
    "    imax = (\n",
    "        -1.5 * (moments[\"m20\"] + moments[\"m02\"])\n",
    "        - -1.5 * (moments[\"m20\"] - moments[\"m02\"]) * cosmax\n",
    "        - moments[\"m10\"] * sinmax\n",
    "    )\n",
    "\n",
    "    ratio = imin / imax\n",
    "    return ratio\n",
    "\n",
    "inertia_ratio = calculate_inertia_ratio(moments)\n",
    "inertia_ratio\n",
    "\n",
    "\n",
    "\n"
   ]
  },
  {
   "cell_type": "code",
   "execution_count": 21,
   "metadata": {},
   "outputs": [
    {
     "data": {
      "text/plain": [
       "<matplotlib.image.AxesImage at 0x13f582870>"
      ]
     },
     "execution_count": 21,
     "metadata": {},
     "output_type": "execute_result"
    },
    {
     "data": {
      "image/png": "[encoded data removed]",
      "text/plain": [
       "<Figure size 640x480 with 1 Axes>"
      ]
     },
     "metadata": {},
     "output_type": "display_data"
    }
   ],
   "source": [
    "square_img = cv.imread('media/square.png', cv.IMREAD_GRAYSCALE)\n",
    "\n",
    "plt.imshow(square_img, cmap='gray')"
   ]
  },
  {
   "cell_type": "code",
   "execution_count": 34,
   "metadata": {},
   "outputs": [
    {
     "data": {
      "text/plain": [
       "<matplotlib.image.AxesImage at 0x14802a8a0>"
      ]
     },
     "execution_count": 34,
     "metadata": {},
     "output_type": "execute_result"
    },
    {
     "data": {
      "image/png": "[encoded data removed]",
      "text/plain": [
       "<Figure size 640x480 with 1 Axes>"
      ]
     },
     "metadata": {},
     "output_type": "display_data"
    }
   ],
   "source": [
    "# Find contours\n",
    "sq_contours, _ = cv.findContours(square_img, cv.RETR_EXTERNAL, cv.CHAIN_APPROX_SIMPLE)\n",
    "# Create a color copy of the image in order to draw the contours\n",
    "square_img_color = cv.cvtColor(square_img, cv.COLOR_GRAY2BGR)\n",
    "# Draw the contours\n",
    "cv.drawContours(square_img_color, sq_contours, -1, (0, 255, 0), 2)\n",
    "plt.imshow(square_img_color)\n"
   ]
  },
  {
   "cell_type": "code",
   "execution_count": 36,
   "metadata": {},
   "outputs": [
    {
     "data": {
      "text/plain": [
       "1.0031906344084731"
      ]
     },
     "execution_count": 36,
     "metadata": {},
     "output_type": "execute_result"
    }
   ],
   "source": [
    "square_moments = cv.moments(sq_contours[0])\n",
    "ir = calculate_inertia_ratio(square_moments)\n",
    "\n",
    "ir"
   ]
  },
  {
   "cell_type": "markdown",
   "metadata": {},
   "source": [
    "### TODO Aside. Why squares? \n",
    "\n",
    "The sum of squares is a standard way in statistics to measure the spread of values, as it prevents positive and negative values from canceling each other out and emphasizes larger deviations."
   ]
  },
  {
   "cell_type": "code",
   "execution_count": 39,
   "metadata": {},
   "outputs": [
    {
     "data": {
      "text/plain": [
       "array([-1.30552514, -0.89005038,  0.58589365, -0.26816366, -0.81527819,\n",
       "       -1.52985346, -2.24517166, -0.62068804, -0.5935867 ,  0.00502639])"
      ]
     },
     "execution_count": 39,
     "metadata": {},
     "output_type": "execute_result"
    },
    {
     "data": {
      "image/png": "[encoded data removed]",
      "text/plain": [
       "<Figure size 640x480 with 1 Axes>"
      ]
     },
     "metadata": {},
     "output_type": "display_data"
    }
   ],
   "source": [
    "import numpy as np\n",
    "x = np.random.randn(100)\n",
    "y = np.random.randn(100)\n",
    "\n",
    "data = np.array([x, y])\n",
    "sum_x = np.sum(x)\n",
    "mean_x = np.mean(x)\n",
    "\n",
    "plt.axvline(mean_x, color='r')\n",
    "plt.scatter(x, y)\n",
    "np.random.randn(10)"
   ]
  }
 ],
 "metadata": {
  "kernelspec": {
   "display_name": ".venv",
   "language": "python",
   "name": "python3"
  },
  "language_info": {
   "codemirror_mode": {
    "name": "ipython",
    "version": 3
   },
   "file_extension": ".py",
   "mimetype": "text/x-python",
   "name": "python",
   "nbconvert_exporter": "python",
   "pygments_lexer": "ipython3",
   "version": "3.12.4"
  }
 },
 "nbformat": 4,
 "nbformat_minor": 2
}
